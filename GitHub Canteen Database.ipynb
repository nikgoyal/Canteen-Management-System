{
 "cells": [
  {
   "cell_type": "code",
   "execution_count": null,
   "id": "4c783995-59f2-45ad-b477-b70283d9f883",
   "metadata": {},
   "outputs": [],
   "source": [
    "create database Canteen;\n",
    "use Canteen;\n",
    "\n",
    "create table recommended\n",
    "(\n",
    "\tR_no varchar(50),\n",
    "    R_name char(255),\n",
    "    R_cost int\n",
    ");\n",
    "create table indian_veg\n",
    "(\n",
    "\tI_no varchar(50),\n",
    "    I_name char(255),\n",
    "    I_cost int\n",
    ");\n",
    "create table chinese\n",
    "(\n",
    "\tC_no varchar(50),\n",
    "    C_name char(255),\n",
    "    C_cost int\n",
    ");\n",
    "create table soft_drinks\n",
    "(\n",
    "\tD_no varchar(50),\n",
    "    D_name char(255),\n",
    "    D_cost int\n",
    ");\n",
    "create table desserts\n",
    "(\n",
    "\tS_no varchar(50),\n",
    "    S_name char(255),\n",
    "    S_cost int\n",
    ");\n",
    "create table salads\n",
    "(\n",
    "\tSa_no varchar(50),\n",
    "    Sa_name char(255),\n",
    "    Sa_cost int\n",
    ");\n",
    "create table review\n",
    "(\n",
    "\tid int primary key NOT NULL AUTO_INCREMENT,\n",
    "\tname char(50) not null,\n",
    "    message varchar(100) not null\n",
    ");\n",
    "\n",
    "select * from recommended;\n",
    "select * from indian_veg;\n",
    "select * from chinese;\n",
    "select * from soft_drinks;\n",
    "select * from desserts;\n",
    "select * from salads;\n",
    "select * from review;\n"
   ]
  }
 ],
 "metadata": {
  "kernelspec": {
   "display_name": "Python 3 (ipykernel)",
   "language": "python",
   "name": "python3"
  },
  "language_info": {
   "codemirror_mode": {
    "name": "ipython",
    "version": 3
   },
   "file_extension": ".py",
   "mimetype": "text/x-python",
   "name": "python",
   "nbconvert_exporter": "python",
   "pygments_lexer": "ipython3",
   "version": "3.11.7"
  }
 },
 "nbformat": 4,
 "nbformat_minor": 5
}
